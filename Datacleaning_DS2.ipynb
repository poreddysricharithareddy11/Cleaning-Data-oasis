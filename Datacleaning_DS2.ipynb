{
  "cells": [
    {
      "cell_type": "markdown",
      "source": [
        "##**ABOUT DATASET**:-\n",
        "\n",
        "#Trending YouTube Video Statistics\n",
        "Daily statistics for trending YouTube videos"
      ],
      "metadata": {
        "id": "WJIa_CWqlELF"
      }
    },
    {
      "cell_type": "code",
      "source": [
        "import pandas as pd\n",
        "import seaborn as sns\n",
        "import numpy as np\n",
        "import matplotlib.pyplot as plt"
      ],
      "metadata": {
        "id": "W2olndlBmTtf"
      },
      "execution_count": null,
      "outputs": []
    },
    {
      "cell_type": "code",
      "source": [
        "df=pd.read_csv(\"/content/INvideos.csv\")"
      ],
      "metadata": {
        "id": "fcM9qhf-mWtM"
      },
      "execution_count": null,
      "outputs": []
    },
    {
      "cell_type": "code",
      "source": [
        "df"
      ],
      "metadata": {
        "id": "nWwmBrH6z1_Q"
      },
      "execution_count": null,
      "outputs": []
    },
    {
      "cell_type": "code",
      "source": [
        "df.shape"
      ],
      "metadata": {
        "id": "8u6FCN9AzR0i"
      },
      "execution_count": null,
      "outputs": []
    },
    {
      "cell_type": "code",
      "source": [
        "df.info()"
      ],
      "metadata": {
        "id": "0KygrOUpzV2V"
      },
      "execution_count": null,
      "outputs": []
    },
    {
      "cell_type": "code",
      "source": [
        "df.describe()"
      ],
      "metadata": {
        "id": "6oc5U3rWzZmw"
      },
      "execution_count": null,
      "outputs": []
    },
    {
      "cell_type": "code",
      "source": [
        "df.describe(include=object)"
      ],
      "metadata": {
        "id": "eoi-Blq1zbk8"
      },
      "execution_count": null,
      "outputs": []
    },
    {
      "cell_type": "code",
      "source": [
        "df.duplicated().sum()"
      ],
      "metadata": {
        "id": "rZ_mrBB7zfmM"
      },
      "execution_count": null,
      "outputs": []
    },
    {
      "cell_type": "code",
      "source": [
        "df.drop_duplicates(inplace=True)"
      ],
      "metadata": {
        "id": "HxVwjk0UzrPc"
      },
      "execution_count": null,
      "outputs": []
    },
    {
      "cell_type": "code",
      "source": [
        "df.duplicated().sum()"
      ],
      "metadata": {
        "id": "o8K0J7Q6zuE7"
      },
      "execution_count": null,
      "outputs": []
    },
    {
      "cell_type": "code",
      "source": [
        "df.isnull().sum()"
      ],
      "metadata": {
        "id": "OMD9EykQz3Tx"
      },
      "execution_count": null,
      "outputs": []
    },
    {
      "cell_type": "code",
      "source": [
        "df.isnull().sum()*100/len(df)"
      ],
      "metadata": {
        "id": "9QpEhY4sz8p_"
      },
      "execution_count": null,
      "outputs": []
    },
    {
      "cell_type": "code",
      "source": [
        "df.dropna(inplace=True)"
      ],
      "metadata": {
        "id": "t0vt9n1xz-qa"
      },
      "execution_count": null,
      "outputs": []
    },
    {
      "cell_type": "code",
      "source": [
        "df.isnull().sum()"
      ],
      "metadata": {
        "id": "JPkYHlU60Aiu"
      },
      "execution_count": null,
      "outputs": []
    },
    {
      "cell_type": "code",
      "source": [
        "df.drop(columns=\"category_id\",inplace=True)\n",
        "df.drop(columns=\"video_id\",inplace=True)"
      ],
      "metadata": {
        "id": "_nHuUr_20Jj-"
      },
      "execution_count": null,
      "outputs": []
    },
    {
      "cell_type": "code",
      "source": [
        "df.head()"
      ],
      "metadata": {
        "id": "Ey6u1pfs0MnV"
      },
      "execution_count": null,
      "outputs": []
    },
    {
      "cell_type": "code",
      "source": [
        "df.boxplot(figsize=(20,8))\n",
        "plt.show()"
      ],
      "metadata": {
        "id": "NRwbZYPc0Okv"
      },
      "execution_count": null,
      "outputs": []
    },
    {
      "cell_type": "code",
      "source": [
        "sns.boxplot(df[\"views\"])\n",
        "plt.show()"
      ],
      "metadata": {
        "id": "eSAZTtgk0Q7B"
      },
      "execution_count": null,
      "outputs": []
    },
    {
      "cell_type": "code",
      "source": [
        "sns.boxplot(df[\"likes\"])\n",
        "plt.show()"
      ],
      "metadata": {
        "id": "G-auRKkZ0S-7"
      },
      "execution_count": null,
      "outputs": []
    },
    {
      "cell_type": "code",
      "source": [
        "sns.boxplot(df[\"dislikes\"])\n",
        "plt.show()"
      ],
      "metadata": {
        "id": "XRI30Lu90VgV"
      },
      "execution_count": null,
      "outputs": []
    },
    {
      "cell_type": "code",
      "source": [
        "sns.boxplot(df[\"comment_count\"])\n",
        "plt.show()"
      ],
      "metadata": {
        "id": "oPortgOW0XmS"
      },
      "execution_count": null,
      "outputs": []
    },
    {
      "cell_type": "code",
      "source": [
        "df[\"views\"]=np.log1p(df[\"views\"])\n",
        "df[\"likes\"]=np.log1p(df[\"likes\"])\n",
        "df[\"dislikes\"]=np.log1p(df[\"dislikes\"])\n",
        "df[\"comment_count\"]=np.log1p(df[\"comment_count\"])"
      ],
      "metadata": {
        "id": "uchjMrNo0Ztn"
      },
      "execution_count": null,
      "outputs": []
    },
    {
      "cell_type": "code",
      "source": [
        "df.boxplot(figsize=(20,8))\n",
        "plt.show()"
      ],
      "metadata": {
        "id": "ytkkSlcc0brj"
      },
      "execution_count": null,
      "outputs": []
    },
    {
      "cell_type": "code",
      "source": [
        "for col in ['views','likes','dislikes','comment_count']:\n",
        "    q1=df[col].quantile(0.25)\n",
        "    q3=df[col].quantile(0.75)\n",
        "    iqr=q3-q1\n",
        "    lower_whisker=q1-1.5*iqr\n",
        "    upper_whisker=q3+1.5*iqr\n",
        "    ser=df[col].copy()\n",
        "    ser[ser<lower_whisker]=lower_whisker\n",
        "    ser[ser<upper_whisker]=upper_whisker\n",
        "    df[col]=ser"
      ],
      "metadata": {
        "id": "AYf6En0K0dvZ"
      },
      "execution_count": null,
      "outputs": []
    },
    {
      "cell_type": "code",
      "source": [
        "df.boxplot(figsize=(15,8))\n",
        "plt.show()"
      ],
      "metadata": {
        "id": "uNfSV0n50fzW"
      },
      "execution_count": null,
      "outputs": []
    },
    {
      "cell_type": "code",
      "source": [
        "for col in ['views','likes','dislikes','comment_count']:\n",
        "    q1=df[col].quantile(0.25)\n",
        "    q3=df[col].quantile(0.75)\n",
        "    iqr=q3-q1\n",
        "    df[col] = df[col][~((df[col]< (q1 - 1.5 * iqr)) |(df[col] > (q3 + 1.5 * iqr)))]"
      ],
      "metadata": {
        "id": "Y2hjh20Q0jio"
      },
      "execution_count": null,
      "outputs": []
    },
    {
      "cell_type": "code",
      "source": [
        "df.boxplot(figsize=(20,8))\n",
        "plt.show()"
      ],
      "metadata": {
        "id": "4ybemgEJ0llu"
      },
      "execution_count": null,
      "outputs": []
    }
  ],
  "metadata": {
    "colab": {
      "provenance": []
    },
    "kernelspec": {
      "display_name": "Python 3",
      "name": "python3"
    },
    "language_info": {
      "name": "python"
    }
  },
  "nbformat": 4,
  "nbformat_minor": 0
}